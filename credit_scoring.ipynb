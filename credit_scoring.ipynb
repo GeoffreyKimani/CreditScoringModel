{
 "cells": [
  {
   "cell_type": "markdown",
   "source": [
    "## Libaries"
   ],
   "metadata": {
    "collapsed": false
   }
  },
  {
   "cell_type": "code",
   "execution_count": 3,
   "metadata": {
    "collapsed": true
   },
   "outputs": [
    {
     "name": "stdout",
     "output_type": "stream",
     "text": [
      "Collecting pandas\r\n",
      "  Downloading pandas-1.5.1-cp39-cp39-manylinux_2_17_x86_64.manylinux2014_x86_64.whl (12.2 MB)\r\n",
      "\u001B[2K     \u001B[90m━━━━━━━━━━━━━━━━━━━━━━━━━━━━━━━━━━━━━━━━\u001B[0m \u001B[32m12.2/12.2 MB\u001B[0m \u001B[31m3.9 MB/s\u001B[0m eta \u001B[36m0:00:00\u001B[0m00:01\u001B[0m00:01\u001B[0m\r\n",
      "\u001B[?25hRequirement already satisfied: pytz>=2020.1 in /home/prof-eng-kim/anaconda3/envs/credit_scoring/lib/python3.9/site-packages (from pandas) (2022.1)\r\n",
      "Collecting numpy>=1.20.3\r\n",
      "  Downloading numpy-1.23.4-cp39-cp39-manylinux_2_17_x86_64.manylinux2014_x86_64.whl (17.1 MB)\r\n",
      "\u001B[2K     \u001B[90m━━━━━━━━━━━━━━━━━━━━━━━━━━━━━━━━━━━━━━━━\u001B[0m \u001B[32m17.1/17.1 MB\u001B[0m \u001B[31m3.7 MB/s\u001B[0m eta \u001B[36m0:00:00\u001B[0m00:01\u001B[0m00:01\u001B[0m\r\n",
      "\u001B[?25hRequirement already satisfied: python-dateutil>=2.8.1 in /home/prof-eng-kim/anaconda3/envs/credit_scoring/lib/python3.9/site-packages (from pandas) (2.8.2)\r\n",
      "Requirement already satisfied: six>=1.5 in /home/prof-eng-kim/anaconda3/envs/credit_scoring/lib/python3.9/site-packages (from python-dateutil>=2.8.1->pandas) (1.16.0)\r\n",
      "Installing collected packages: numpy, pandas\r\n",
      "Successfully installed numpy-1.23.4 pandas-1.5.1\r\n"
     ]
    }
   ],
   "source": [
    "# Installations\n",
    "!pip install pandas"
   ]
  },
  {
   "cell_type": "code",
   "execution_count": 7,
   "outputs": [],
   "source": [
    "import pandas as pd"
   ],
   "metadata": {
    "collapsed": false
   }
  },
  {
   "cell_type": "markdown",
   "source": [
    "## Loading the data\n",
    "\n",
    "- What files do we have\n",
    "- What is the contents of the files\n",
    "- Which data is useful for us"
   ],
   "metadata": {
    "collapsed": false
   }
  },
  {
   "cell_type": "code",
   "execution_count": 9,
   "outputs": [
    {
     "name": "stdout",
     "output_type": "stream",
     "text": [
      "sample_submission.csv  Train.csv                  VariableDefinitions.csv\r\n",
      "Test.csv               unlinked_masked_final.csv\r\n"
     ]
    }
   ],
   "source": [
    "# list files\n",
    "%ls data\n",
    "\n",
    "data_path = \"data/\""
   ],
   "metadata": {
    "collapsed": false
   }
  },
  {
   "cell_type": "code",
   "execution_count": 10,
   "outputs": [
    {
     "data": {
      "text/plain": "                 Variable                                         Definition\n0              CustomerId  Unique number identifying the customer on plat...\n1    TransactionStartTime                             Transaction start time\n2                   Value                               Value of transaction\n3                  Amount                  Value of Transaction with charges\n4           TransactionId          Unique transaction identifier on platform\n5                 BatchId  Identifier for bulk transactions being done on...\n6          SubscriptionId  You can have one account with multiple subscri...\n7            CurrencyCode                                   Country currency\n8             CountryCode             Numerical geographical code of country\n9              ProviderId                     Source provider of Item bought\n10              ProductId                             Item name being bought\n11        ProductCategory                                    Type of product\n12              ChannelId  Identifies if customer used Xente Paylater on ...\n13      TransactionStatus  Loan application status (1=accepted, 0 = rejec...\n14         IssuedDateLoan                                Date loan is issued\n15             AmountLoan                           Value of the loan issued\n16               Currency                    Ugandan shillings Denominations\n17                 LoanId                 Loan transaction unique identifier\n18             PaidOnDate                    Date on which the loan was paid\n19         IsFinalPayBack                           Last payback installment\n20             InvestorId                       Loan issuer or network owner\n21                DueDate                                   Date loan is due\n22      LoanApplicationId             unique identifier for loan application\n23              PayBackId                     Loan payback number identifier\n24           ThirdPartyId                  Transaction id for a loan payback\n25  IsThirdPartyConfirmed                   loan order succeeded on platform\n26            IsDefaulted  Exceeded agreed payback time (1 = default, 0 =...",
      "text/html": "<div>\n<style scoped>\n    .dataframe tbody tr th:only-of-type {\n        vertical-align: middle;\n    }\n\n    .dataframe tbody tr th {\n        vertical-align: top;\n    }\n\n    .dataframe thead th {\n        text-align: right;\n    }\n</style>\n<table border=\"1\" class=\"dataframe\">\n  <thead>\n    <tr style=\"text-align: right;\">\n      <th></th>\n      <th>Variable</th>\n      <th>Definition</th>\n    </tr>\n  </thead>\n  <tbody>\n    <tr>\n      <th>0</th>\n      <td>CustomerId</td>\n      <td>Unique number identifying the customer on plat...</td>\n    </tr>\n    <tr>\n      <th>1</th>\n      <td>TransactionStartTime</td>\n      <td>Transaction start time</td>\n    </tr>\n    <tr>\n      <th>2</th>\n      <td>Value</td>\n      <td>Value of transaction</td>\n    </tr>\n    <tr>\n      <th>3</th>\n      <td>Amount</td>\n      <td>Value of Transaction with charges</td>\n    </tr>\n    <tr>\n      <th>4</th>\n      <td>TransactionId</td>\n      <td>Unique transaction identifier on platform</td>\n    </tr>\n    <tr>\n      <th>5</th>\n      <td>BatchId</td>\n      <td>Identifier for bulk transactions being done on...</td>\n    </tr>\n    <tr>\n      <th>6</th>\n      <td>SubscriptionId</td>\n      <td>You can have one account with multiple subscri...</td>\n    </tr>\n    <tr>\n      <th>7</th>\n      <td>CurrencyCode</td>\n      <td>Country currency</td>\n    </tr>\n    <tr>\n      <th>8</th>\n      <td>CountryCode</td>\n      <td>Numerical geographical code of country</td>\n    </tr>\n    <tr>\n      <th>9</th>\n      <td>ProviderId</td>\n      <td>Source provider of Item bought</td>\n    </tr>\n    <tr>\n      <th>10</th>\n      <td>ProductId</td>\n      <td>Item name being bought</td>\n    </tr>\n    <tr>\n      <th>11</th>\n      <td>ProductCategory</td>\n      <td>Type of product</td>\n    </tr>\n    <tr>\n      <th>12</th>\n      <td>ChannelId</td>\n      <td>Identifies if customer used Xente Paylater on ...</td>\n    </tr>\n    <tr>\n      <th>13</th>\n      <td>TransactionStatus</td>\n      <td>Loan application status (1=accepted, 0 = rejec...</td>\n    </tr>\n    <tr>\n      <th>14</th>\n      <td>IssuedDateLoan</td>\n      <td>Date loan is issued</td>\n    </tr>\n    <tr>\n      <th>15</th>\n      <td>AmountLoan</td>\n      <td>Value of the loan issued</td>\n    </tr>\n    <tr>\n      <th>16</th>\n      <td>Currency</td>\n      <td>Ugandan shillings Denominations</td>\n    </tr>\n    <tr>\n      <th>17</th>\n      <td>LoanId</td>\n      <td>Loan transaction unique identifier</td>\n    </tr>\n    <tr>\n      <th>18</th>\n      <td>PaidOnDate</td>\n      <td>Date on which the loan was paid</td>\n    </tr>\n    <tr>\n      <th>19</th>\n      <td>IsFinalPayBack</td>\n      <td>Last payback installment</td>\n    </tr>\n    <tr>\n      <th>20</th>\n      <td>InvestorId</td>\n      <td>Loan issuer or network owner</td>\n    </tr>\n    <tr>\n      <th>21</th>\n      <td>DueDate</td>\n      <td>Date loan is due</td>\n    </tr>\n    <tr>\n      <th>22</th>\n      <td>LoanApplicationId</td>\n      <td>unique identifier for loan application</td>\n    </tr>\n    <tr>\n      <th>23</th>\n      <td>PayBackId</td>\n      <td>Loan payback number identifier</td>\n    </tr>\n    <tr>\n      <th>24</th>\n      <td>ThirdPartyId</td>\n      <td>Transaction id for a loan payback</td>\n    </tr>\n    <tr>\n      <th>25</th>\n      <td>IsThirdPartyConfirmed</td>\n      <td>loan order succeeded on platform</td>\n    </tr>\n    <tr>\n      <th>26</th>\n      <td>IsDefaulted</td>\n      <td>Exceeded agreed payback time (1 = default, 0 =...</td>\n    </tr>\n  </tbody>\n</table>\n</div>"
     },
     "execution_count": 10,
     "metadata": {},
     "output_type": "execute_result"
    }
   ],
   "source": [
    "# Read the VariableDefinitions file\n",
    "var_defs = pd.read_csv(data_path + 'VariableDefinitions.csv')\n",
    "var_defs"
   ],
   "metadata": {
    "collapsed": false
   }
  },
  {
   "cell_type": "markdown",
   "source": [
    "### Understanding the variables and commenting on them\n",
    "#### Key variables\n",
    "- **Value:** Actual amount being transacted\n",
    "- **Amount:** Cumulative amount with costs\n",
    "(These two variables can tell us how transaction costs affect transaction behavior e.g. When transacting large sums of money, do people split them in smaller transactions, etc)\n",
    "- **IssuedDate, PaidOnDate, DueData:** Track the duration of the loan\n",
    "(From this we can create 2 variables 1. LoanDuration(Days) 2. OverDue (T/F))\n",
    "- **AmountLoan:** Value of the loan\n",
    "- **IsDefaulted:** Was the loan repaid or not\n",
    "- **InvestorId:** Does the investor/institution affect how likely one can receive a loan? Are there institutions with more defaulters?\n",
    "- **TransactionStatus:** (y) -> Loan accepted or rejected\n",
    "\n",
    "#### Might be useful\n",
    "- _TransactionStartTime:_ We can get patterns of transactions, what days/time are they at peak, low etc\n",
    "- _ProviderId:_ Does a certain source has more transactions/customer. Are there regular people for the provider\n",
    "- _ProductId:_ Is a certain product more bought. What are the trends and patterns?\n",
    "- _ProductCategory_ (Same as above)\n",
    "- _ChannelId:_ Is there a preferred channel of transacting?\n",
    "- _InvestorId:_ Are there financial services that are more preferred for loans?\n",
    "\n",
    "#### Sensitive variables\n",
    "- CustomerId: Do we want our model to associate a customer with some fixed prediction even if their behavior might change. This could create a potential bias.\n",
    "\n",
    "#### Not necessarily useful\n",
    "- TransactionId (But can we find transactions that are anomalous?)\n",
    "- BatchId\n",
    "- SubscriptionID\n",
    "- CurrencyCode\n",
    "- CountryCode"
   ],
   "metadata": {
    "collapsed": false
   }
  },
  {
   "cell_type": "code",
   "execution_count": 11,
   "outputs": [
    {
     "data": {
      "text/plain": "      CustomerId TransactionStartTime   Value  Amount       TransactionId  \\\n0  CustomerId_27  2018-09-21 12:17:39   550.0  -550.0  TransactionId_1683   \n1  CustomerId_27  2018-09-25 09:20:29   550.0  -550.0  TransactionId_2235   \n2  CustomerId_27  2018-09-25 10:33:31   550.0  -550.0  TransactionId_1053   \n3  CustomerId_27  2018-09-27 10:26:41  1000.0 -1000.0  TransactionId_2633   \n4  CustomerId_27  2018-09-27 12:44:21   500.0  -500.0    TransactionId_71   \n\n        BatchId    SubscriptionId CurrencyCode  CountryCode    ProviderId  \\\n0   BatchId_641  SubscriptionId_2          UGX          256  ProviderId_1   \n1   BatchId_820  SubscriptionId_2          UGX          256  ProviderId_1   \n2   BatchId_210  SubscriptionId_4          UGX          256  ProviderId_1   \n3   BatchId_876  SubscriptionId_4          UGX          256  ProviderId_1   \n4  BatchId_1362  SubscriptionId_4          UGX          256  ProviderId_1   \n\n   ... LoanId PaidOnDate IsFinalPayBack  InvestorId DueDate  \\\n0  ...    NaN        NaN            NaN         NaN     NaN   \n1  ...    NaN        NaN            NaN         NaN     NaN   \n2  ...    NaN        NaN            NaN         NaN     NaN   \n3  ...    NaN        NaN            NaN         NaN     NaN   \n4  ...    NaN        NaN            NaN         NaN     NaN   \n\n   LoanApplicationId PayBackId ThirdPartyId IsThirdPartyConfirmed  IsDefaulted  \n0                NaN       NaN          NaN                   NaN          NaN  \n1                NaN       NaN          NaN                   NaN          NaN  \n2                NaN       NaN          NaN                   NaN          NaN  \n3                NaN       NaN          NaN                   NaN          NaN  \n4                NaN       NaN          NaN                   NaN          NaN  \n\n[5 rows x 27 columns]",
      "text/html": "<div>\n<style scoped>\n    .dataframe tbody tr th:only-of-type {\n        vertical-align: middle;\n    }\n\n    .dataframe tbody tr th {\n        vertical-align: top;\n    }\n\n    .dataframe thead th {\n        text-align: right;\n    }\n</style>\n<table border=\"1\" class=\"dataframe\">\n  <thead>\n    <tr style=\"text-align: right;\">\n      <th></th>\n      <th>CustomerId</th>\n      <th>TransactionStartTime</th>\n      <th>Value</th>\n      <th>Amount</th>\n      <th>TransactionId</th>\n      <th>BatchId</th>\n      <th>SubscriptionId</th>\n      <th>CurrencyCode</th>\n      <th>CountryCode</th>\n      <th>ProviderId</th>\n      <th>...</th>\n      <th>LoanId</th>\n      <th>PaidOnDate</th>\n      <th>IsFinalPayBack</th>\n      <th>InvestorId</th>\n      <th>DueDate</th>\n      <th>LoanApplicationId</th>\n      <th>PayBackId</th>\n      <th>ThirdPartyId</th>\n      <th>IsThirdPartyConfirmed</th>\n      <th>IsDefaulted</th>\n    </tr>\n  </thead>\n  <tbody>\n    <tr>\n      <th>0</th>\n      <td>CustomerId_27</td>\n      <td>2018-09-21 12:17:39</td>\n      <td>550.0</td>\n      <td>-550.0</td>\n      <td>TransactionId_1683</td>\n      <td>BatchId_641</td>\n      <td>SubscriptionId_2</td>\n      <td>UGX</td>\n      <td>256</td>\n      <td>ProviderId_1</td>\n      <td>...</td>\n      <td>NaN</td>\n      <td>NaN</td>\n      <td>NaN</td>\n      <td>NaN</td>\n      <td>NaN</td>\n      <td>NaN</td>\n      <td>NaN</td>\n      <td>NaN</td>\n      <td>NaN</td>\n      <td>NaN</td>\n    </tr>\n    <tr>\n      <th>1</th>\n      <td>CustomerId_27</td>\n      <td>2018-09-25 09:20:29</td>\n      <td>550.0</td>\n      <td>-550.0</td>\n      <td>TransactionId_2235</td>\n      <td>BatchId_820</td>\n      <td>SubscriptionId_2</td>\n      <td>UGX</td>\n      <td>256</td>\n      <td>ProviderId_1</td>\n      <td>...</td>\n      <td>NaN</td>\n      <td>NaN</td>\n      <td>NaN</td>\n      <td>NaN</td>\n      <td>NaN</td>\n      <td>NaN</td>\n      <td>NaN</td>\n      <td>NaN</td>\n      <td>NaN</td>\n      <td>NaN</td>\n    </tr>\n    <tr>\n      <th>2</th>\n      <td>CustomerId_27</td>\n      <td>2018-09-25 10:33:31</td>\n      <td>550.0</td>\n      <td>-550.0</td>\n      <td>TransactionId_1053</td>\n      <td>BatchId_210</td>\n      <td>SubscriptionId_4</td>\n      <td>UGX</td>\n      <td>256</td>\n      <td>ProviderId_1</td>\n      <td>...</td>\n      <td>NaN</td>\n      <td>NaN</td>\n      <td>NaN</td>\n      <td>NaN</td>\n      <td>NaN</td>\n      <td>NaN</td>\n      <td>NaN</td>\n      <td>NaN</td>\n      <td>NaN</td>\n      <td>NaN</td>\n    </tr>\n    <tr>\n      <th>3</th>\n      <td>CustomerId_27</td>\n      <td>2018-09-27 10:26:41</td>\n      <td>1000.0</td>\n      <td>-1000.0</td>\n      <td>TransactionId_2633</td>\n      <td>BatchId_876</td>\n      <td>SubscriptionId_4</td>\n      <td>UGX</td>\n      <td>256</td>\n      <td>ProviderId_1</td>\n      <td>...</td>\n      <td>NaN</td>\n      <td>NaN</td>\n      <td>NaN</td>\n      <td>NaN</td>\n      <td>NaN</td>\n      <td>NaN</td>\n      <td>NaN</td>\n      <td>NaN</td>\n      <td>NaN</td>\n      <td>NaN</td>\n    </tr>\n    <tr>\n      <th>4</th>\n      <td>CustomerId_27</td>\n      <td>2018-09-27 12:44:21</td>\n      <td>500.0</td>\n      <td>-500.0</td>\n      <td>TransactionId_71</td>\n      <td>BatchId_1362</td>\n      <td>SubscriptionId_4</td>\n      <td>UGX</td>\n      <td>256</td>\n      <td>ProviderId_1</td>\n      <td>...</td>\n      <td>NaN</td>\n      <td>NaN</td>\n      <td>NaN</td>\n      <td>NaN</td>\n      <td>NaN</td>\n      <td>NaN</td>\n      <td>NaN</td>\n      <td>NaN</td>\n      <td>NaN</td>\n      <td>NaN</td>\n    </tr>\n  </tbody>\n</table>\n<p>5 rows × 27 columns</p>\n</div>"
     },
     "execution_count": 11,
     "metadata": {},
     "output_type": "execute_result"
    }
   ],
   "source": [
    "# Load the training and test datasets\n",
    "training_data = pd.read_csv(data_path+'Train.csv')\n",
    "training_data.head(5)"
   ],
   "metadata": {
    "collapsed": false
   }
  },
  {
   "cell_type": "code",
   "execution_count": 12,
   "outputs": [
    {
     "data": {
      "text/plain": "       CustomerId TransactionStartTime    Value   Amount       TransactionId  \\\n0  CustomerId_310  2019-03-31 13:33:05  14000.0 -14000.0   TransactionId_925   \n1  CustomerId_243  2019-03-31 15:04:09   1000.0  -1000.0  TransactionId_1080   \n2  CustomerId_142  2019-03-31 17:31:11   2500.0  -2500.0  TransactionId_2315   \n3  CustomerId_142  2019-03-31 17:32:15    500.0   -500.0  TransactionId_1466   \n4  CustomerId_142  2019-03-31 17:34:41   1000.0  -1000.0   TransactionId_337   \n\n        BatchId    SubscriptionId CurrencyCode  CountryCode    ProviderId  \\\n0  BatchId_1144  SubscriptionId_7          UGX          256  ProviderId_1   \n1  BatchId_1214  SubscriptionId_7          UGX          256  ProviderId_1   \n2  BatchId_2150  SubscriptionId_7          UGX          256  ProviderId_1   \n3  BatchId_1071  SubscriptionId_7          UGX          256  ProviderId_1   \n4  BatchId_2477  SubscriptionId_7          UGX          256  ProviderId_1   \n\n     ProductId ProductCategory    ChannelId  TransactionStatus  \\\n0  ProductId_7         airtime  ChannelId_1                  1   \n1  ProductId_8    data_bundles  ChannelId_1                  1   \n2  ProductId_7         airtime  ChannelId_1                  1   \n3  ProductId_7         airtime  ChannelId_1                  1   \n4  ProductId_7         airtime  ChannelId_1                  1   \n\n        IssuedDateLoan       LoanId    InvestorId       LoanApplicationId  \\\n0  2019-03-31 13:33:04  LoanId_1027  InvestorId_1   LoanApplicationId_825   \n1  2019-03-31 15:04:08   LoanId_768  InvestorId_1    LoanApplicationId_68   \n2  2019-03-31 17:31:09  LoanId_1067  InvestorId_1  LoanApplicationId_1223   \n3  2019-03-31 17:32:14   LoanId_202  InvestorId_1   LoanApplicationId_633   \n4  2019-03-31 17:34:40   LoanId_533  InvestorId_1   LoanApplicationId_309   \n\n        ThirdPartyId  \n0  ThirdPartyId_1175  \n1   ThirdPartyId_604  \n2  ThirdPartyId_1521  \n3   ThirdPartyId_406  \n4   ThirdPartyId_302  ",
      "text/html": "<div>\n<style scoped>\n    .dataframe tbody tr th:only-of-type {\n        vertical-align: middle;\n    }\n\n    .dataframe tbody tr th {\n        vertical-align: top;\n    }\n\n    .dataframe thead th {\n        text-align: right;\n    }\n</style>\n<table border=\"1\" class=\"dataframe\">\n  <thead>\n    <tr style=\"text-align: right;\">\n      <th></th>\n      <th>CustomerId</th>\n      <th>TransactionStartTime</th>\n      <th>Value</th>\n      <th>Amount</th>\n      <th>TransactionId</th>\n      <th>BatchId</th>\n      <th>SubscriptionId</th>\n      <th>CurrencyCode</th>\n      <th>CountryCode</th>\n      <th>ProviderId</th>\n      <th>ProductId</th>\n      <th>ProductCategory</th>\n      <th>ChannelId</th>\n      <th>TransactionStatus</th>\n      <th>IssuedDateLoan</th>\n      <th>LoanId</th>\n      <th>InvestorId</th>\n      <th>LoanApplicationId</th>\n      <th>ThirdPartyId</th>\n    </tr>\n  </thead>\n  <tbody>\n    <tr>\n      <th>0</th>\n      <td>CustomerId_310</td>\n      <td>2019-03-31 13:33:05</td>\n      <td>14000.0</td>\n      <td>-14000.0</td>\n      <td>TransactionId_925</td>\n      <td>BatchId_1144</td>\n      <td>SubscriptionId_7</td>\n      <td>UGX</td>\n      <td>256</td>\n      <td>ProviderId_1</td>\n      <td>ProductId_7</td>\n      <td>airtime</td>\n      <td>ChannelId_1</td>\n      <td>1</td>\n      <td>2019-03-31 13:33:04</td>\n      <td>LoanId_1027</td>\n      <td>InvestorId_1</td>\n      <td>LoanApplicationId_825</td>\n      <td>ThirdPartyId_1175</td>\n    </tr>\n    <tr>\n      <th>1</th>\n      <td>CustomerId_243</td>\n      <td>2019-03-31 15:04:09</td>\n      <td>1000.0</td>\n      <td>-1000.0</td>\n      <td>TransactionId_1080</td>\n      <td>BatchId_1214</td>\n      <td>SubscriptionId_7</td>\n      <td>UGX</td>\n      <td>256</td>\n      <td>ProviderId_1</td>\n      <td>ProductId_8</td>\n      <td>data_bundles</td>\n      <td>ChannelId_1</td>\n      <td>1</td>\n      <td>2019-03-31 15:04:08</td>\n      <td>LoanId_768</td>\n      <td>InvestorId_1</td>\n      <td>LoanApplicationId_68</td>\n      <td>ThirdPartyId_604</td>\n    </tr>\n    <tr>\n      <th>2</th>\n      <td>CustomerId_142</td>\n      <td>2019-03-31 17:31:11</td>\n      <td>2500.0</td>\n      <td>-2500.0</td>\n      <td>TransactionId_2315</td>\n      <td>BatchId_2150</td>\n      <td>SubscriptionId_7</td>\n      <td>UGX</td>\n      <td>256</td>\n      <td>ProviderId_1</td>\n      <td>ProductId_7</td>\n      <td>airtime</td>\n      <td>ChannelId_1</td>\n      <td>1</td>\n      <td>2019-03-31 17:31:09</td>\n      <td>LoanId_1067</td>\n      <td>InvestorId_1</td>\n      <td>LoanApplicationId_1223</td>\n      <td>ThirdPartyId_1521</td>\n    </tr>\n    <tr>\n      <th>3</th>\n      <td>CustomerId_142</td>\n      <td>2019-03-31 17:32:15</td>\n      <td>500.0</td>\n      <td>-500.0</td>\n      <td>TransactionId_1466</td>\n      <td>BatchId_1071</td>\n      <td>SubscriptionId_7</td>\n      <td>UGX</td>\n      <td>256</td>\n      <td>ProviderId_1</td>\n      <td>ProductId_7</td>\n      <td>airtime</td>\n      <td>ChannelId_1</td>\n      <td>1</td>\n      <td>2019-03-31 17:32:14</td>\n      <td>LoanId_202</td>\n      <td>InvestorId_1</td>\n      <td>LoanApplicationId_633</td>\n      <td>ThirdPartyId_406</td>\n    </tr>\n    <tr>\n      <th>4</th>\n      <td>CustomerId_142</td>\n      <td>2019-03-31 17:34:41</td>\n      <td>1000.0</td>\n      <td>-1000.0</td>\n      <td>TransactionId_337</td>\n      <td>BatchId_2477</td>\n      <td>SubscriptionId_7</td>\n      <td>UGX</td>\n      <td>256</td>\n      <td>ProviderId_1</td>\n      <td>ProductId_7</td>\n      <td>airtime</td>\n      <td>ChannelId_1</td>\n      <td>1</td>\n      <td>2019-03-31 17:34:40</td>\n      <td>LoanId_533</td>\n      <td>InvestorId_1</td>\n      <td>LoanApplicationId_309</td>\n      <td>ThirdPartyId_302</td>\n    </tr>\n  </tbody>\n</table>\n</div>"
     },
     "execution_count": 12,
     "metadata": {},
     "output_type": "execute_result"
    }
   ],
   "source": [
    "test_data = pd.read_csv(data_path+'Test.csv')\n",
    "test_data.head(5)"
   ],
   "metadata": {
    "collapsed": false
   }
  },
  {
   "cell_type": "markdown",
   "source": [
    "## Exploring the data"
   ],
   "metadata": {
    "collapsed": false
   }
  },
  {
   "cell_type": "code",
   "execution_count": null,
   "outputs": [],
   "source": [],
   "metadata": {
    "collapsed": false
   }
  }
 ],
 "metadata": {
  "kernelspec": {
   "display_name": "Python 3",
   "language": "python",
   "name": "python3"
  },
  "language_info": {
   "codemirror_mode": {
    "name": "ipython",
    "version": 2
   },
   "file_extension": ".py",
   "mimetype": "text/x-python",
   "name": "python",
   "nbconvert_exporter": "python",
   "pygments_lexer": "ipython2",
   "version": "2.7.6"
  }
 },
 "nbformat": 4,
 "nbformat_minor": 0
}
