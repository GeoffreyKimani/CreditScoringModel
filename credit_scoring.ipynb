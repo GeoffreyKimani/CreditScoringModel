{
 "cells": [
  {
   "cell_type": "markdown",
   "source": [
    "## Libaries"
   ],
   "metadata": {
    "collapsed": false
   }
  },
  {
   "cell_type": "code",
   "execution_count": 1,
   "metadata": {
    "collapsed": true
   },
   "outputs": [
    {
     "name": "stdout",
     "output_type": "stream",
     "text": [
      "Requirement already satisfied: pandas in /home/prof-eng-kim/anaconda3/envs/credit_scoring/lib/python3.9/site-packages (1.5.1)\r\n",
      "Requirement already satisfied: pytz>=2020.1 in /home/prof-eng-kim/anaconda3/envs/credit_scoring/lib/python3.9/site-packages (from pandas) (2022.1)\r\n",
      "Requirement already satisfied: numpy>=1.20.3 in /home/prof-eng-kim/anaconda3/envs/credit_scoring/lib/python3.9/site-packages (from pandas) (1.23.4)\r\n",
      "Requirement already satisfied: python-dateutil>=2.8.1 in /home/prof-eng-kim/anaconda3/envs/credit_scoring/lib/python3.9/site-packages (from pandas) (2.8.2)\r\n",
      "Requirement already satisfied: six>=1.5 in /home/prof-eng-kim/anaconda3/envs/credit_scoring/lib/python3.9/site-packages (from python-dateutil>=2.8.1->pandas) (1.16.0)\r\n"
     ]
    }
   ],
   "source": [
    "# Installations\n",
    "!pip install pandas"
   ]
  },
  {
   "cell_type": "code",
   "execution_count": 3,
   "outputs": [],
   "source": [
    "import pandas as pd"
   ],
   "metadata": {
    "collapsed": false
   }
  },
  {
   "cell_type": "markdown",
   "source": [
    "## Loading the data\n",
    "\n",
    "- What files do we have\n",
    "- What is the contents of the files\n",
    "- Which data is useful for us"
   ],
   "metadata": {
    "collapsed": false
   }
  },
  {
   "cell_type": "code",
   "execution_count": 4,
   "outputs": [
    {
     "name": "stdout",
     "output_type": "stream",
     "text": [
      "sample_submission.csv  Train.csv                  VariableDefinitions.csv\r\n",
      "Test.csv               unlinked_masked_final.csv\r\n"
     ]
    }
   ],
   "source": [
    "# list files\n",
    "%ls data\n",
    "\n",
    "data_path = \"data/\""
   ],
   "metadata": {
    "collapsed": false
   }
  },
  {
   "cell_type": "code",
   "execution_count": 5,
   "outputs": [
    {
     "data": {
      "text/plain": "                 Variable                                         Definition\n0              CustomerId  Unique number identifying the customer on plat...\n1    TransactionStartTime                             Transaction start time\n2                   Value                               Value of transaction\n3                  Amount                  Value of Transaction with charges\n4           TransactionId          Unique transaction identifier on platform\n5                 BatchId  Identifier for bulk transactions being done on...\n6          SubscriptionId  You can have one account with multiple subscri...\n7            CurrencyCode                                   Country currency\n8             CountryCode             Numerical geographical code of country\n9              ProviderId                     Source provider of Item bought\n10              ProductId                             Item name being bought\n11        ProductCategory                                    Type of product\n12              ChannelId  Identifies if customer used Xente Paylater on ...\n13      TransactionStatus  Loan application status (1=accepted, 0 = rejec...\n14         IssuedDateLoan                                Date loan is issued\n15             AmountLoan                           Value of the loan issued\n16               Currency                    Ugandan shillings Denominations\n17                 LoanId                 Loan transaction unique identifier\n18             PaidOnDate                    Date on which the loan was paid\n19         IsFinalPayBack                           Last payback installment\n20             InvestorId                       Loan issuer or network owner\n21                DueDate                                   Date loan is due\n22      LoanApplicationId             unique identifier for loan application\n23              PayBackId                     Loan payback number identifier\n24           ThirdPartyId                  Transaction id for a loan payback\n25  IsThirdPartyConfirmed                   loan order succeeded on platform\n26            IsDefaulted  Exceeded agreed payback time (1 = default, 0 =...",
      "text/html": "<div>\n<style scoped>\n    .dataframe tbody tr th:only-of-type {\n        vertical-align: middle;\n    }\n\n    .dataframe tbody tr th {\n        vertical-align: top;\n    }\n\n    .dataframe thead th {\n        text-align: right;\n    }\n</style>\n<table border=\"1\" class=\"dataframe\">\n  <thead>\n    <tr style=\"text-align: right;\">\n      <th></th>\n      <th>Variable</th>\n      <th>Definition</th>\n    </tr>\n  </thead>\n  <tbody>\n    <tr>\n      <th>0</th>\n      <td>CustomerId</td>\n      <td>Unique number identifying the customer on plat...</td>\n    </tr>\n    <tr>\n      <th>1</th>\n      <td>TransactionStartTime</td>\n      <td>Transaction start time</td>\n    </tr>\n    <tr>\n      <th>2</th>\n      <td>Value</td>\n      <td>Value of transaction</td>\n    </tr>\n    <tr>\n      <th>3</th>\n      <td>Amount</td>\n      <td>Value of Transaction with charges</td>\n    </tr>\n    <tr>\n      <th>4</th>\n      <td>TransactionId</td>\n      <td>Unique transaction identifier on platform</td>\n    </tr>\n    <tr>\n      <th>5</th>\n      <td>BatchId</td>\n      <td>Identifier for bulk transactions being done on...</td>\n    </tr>\n    <tr>\n      <th>6</th>\n      <td>SubscriptionId</td>\n      <td>You can have one account with multiple subscri...</td>\n    </tr>\n    <tr>\n      <th>7</th>\n      <td>CurrencyCode</td>\n      <td>Country currency</td>\n    </tr>\n    <tr>\n      <th>8</th>\n      <td>CountryCode</td>\n      <td>Numerical geographical code of country</td>\n    </tr>\n    <tr>\n      <th>9</th>\n      <td>ProviderId</td>\n      <td>Source provider of Item bought</td>\n    </tr>\n    <tr>\n      <th>10</th>\n      <td>ProductId</td>\n      <td>Item name being bought</td>\n    </tr>\n    <tr>\n      <th>11</th>\n      <td>ProductCategory</td>\n      <td>Type of product</td>\n    </tr>\n    <tr>\n      <th>12</th>\n      <td>ChannelId</td>\n      <td>Identifies if customer used Xente Paylater on ...</td>\n    </tr>\n    <tr>\n      <th>13</th>\n      <td>TransactionStatus</td>\n      <td>Loan application status (1=accepted, 0 = rejec...</td>\n    </tr>\n    <tr>\n      <th>14</th>\n      <td>IssuedDateLoan</td>\n      <td>Date loan is issued</td>\n    </tr>\n    <tr>\n      <th>15</th>\n      <td>AmountLoan</td>\n      <td>Value of the loan issued</td>\n    </tr>\n    <tr>\n      <th>16</th>\n      <td>Currency</td>\n      <td>Ugandan shillings Denominations</td>\n    </tr>\n    <tr>\n      <th>17</th>\n      <td>LoanId</td>\n      <td>Loan transaction unique identifier</td>\n    </tr>\n    <tr>\n      <th>18</th>\n      <td>PaidOnDate</td>\n      <td>Date on which the loan was paid</td>\n    </tr>\n    <tr>\n      <th>19</th>\n      <td>IsFinalPayBack</td>\n      <td>Last payback installment</td>\n    </tr>\n    <tr>\n      <th>20</th>\n      <td>InvestorId</td>\n      <td>Loan issuer or network owner</td>\n    </tr>\n    <tr>\n      <th>21</th>\n      <td>DueDate</td>\n      <td>Date loan is due</td>\n    </tr>\n    <tr>\n      <th>22</th>\n      <td>LoanApplicationId</td>\n      <td>unique identifier for loan application</td>\n    </tr>\n    <tr>\n      <th>23</th>\n      <td>PayBackId</td>\n      <td>Loan payback number identifier</td>\n    </tr>\n    <tr>\n      <th>24</th>\n      <td>ThirdPartyId</td>\n      <td>Transaction id for a loan payback</td>\n    </tr>\n    <tr>\n      <th>25</th>\n      <td>IsThirdPartyConfirmed</td>\n      <td>loan order succeeded on platform</td>\n    </tr>\n    <tr>\n      <th>26</th>\n      <td>IsDefaulted</td>\n      <td>Exceeded agreed payback time (1 = default, 0 =...</td>\n    </tr>\n  </tbody>\n</table>\n</div>"
     },
     "execution_count": 5,
     "metadata": {},
     "output_type": "execute_result"
    }
   ],
   "source": [
    "# Read the VariableDefinitions file\n",
    "var_defs = pd.read_csv(data_path + 'VariableDefinitions.csv')\n",
    "var_defs"
   ],
   "metadata": {
    "collapsed": false
   }
  },
  {
   "cell_type": "markdown",
   "source": [
    "### Understanding the variables and commenting on them\n",
    "#### Key variables\n",
    "- **Value:** Actual amount being transacted\n",
    "- **Amount:** Cumulative amount with costs\n",
    "(These two variables can tell us how transaction costs affect transaction behavior e.g. When transacting large sums of money, do people split them in smaller transactions, etc)\n",
    "- **IssuedDate, PaidOnDate, DueData:** Track the duration of the loan\n",
    "(From this we can create 2 variables 1. LoanDuration(Days) 2. OverDue (T/F))\n",
    "- **AmountLoan:** Value of the loan\n",
    "- **IsDefaulted:** Was the loan repaid or not\n",
    "- **InvestorId:** Does the investor/institution affect how likely one can receive a loan? Are there institutions with more defaulters?\n",
    "- **TransactionStatus:** (y) -> Loan accepted or rejected\n",
    "\n",
    "#### Might be useful\n",
    "- _TransactionStartTime:_ We can get patterns of transactions, what days/time are they at peak, low etc\n",
    "- _ProviderId:_ Does a certain source has more transactions/customer. Are there regular people for the provider\n",
    "- _ProductId:_ Is a certain product more bought. What are the trends and patterns?\n",
    "- _ProductCategory_ (Same as above)\n",
    "- _ChannelId:_ Is there a preferred channel of transacting?\n",
    "- _InvestorId:_ Are there financial services that are more preferred for loans?\n",
    "\n",
    "#### Sensitive variables\n",
    "- CustomerId: Do we want our model to associate a customer with some fixed prediction even if their behavior might change. This could create a potential bias.\n",
    "\n",
    "#### Not necessarily useful\n",
    "- TransactionId (But can we find transactions that are anomalous?)\n",
    "- BatchId\n",
    "- SubscriptionID\n",
    "- CurrencyCode\n",
    "- CountryCode"
   ],
   "metadata": {
    "collapsed": false
   }
  },
  {
   "cell_type": "code",
   "execution_count": 6,
   "outputs": [
    {
     "data": {
      "text/plain": "      CustomerId TransactionStartTime   Value  Amount       TransactionId  \\\n0  CustomerId_27  2018-09-21 12:17:39   550.0  -550.0  TransactionId_1683   \n1  CustomerId_27  2018-09-25 09:20:29   550.0  -550.0  TransactionId_2235   \n2  CustomerId_27  2018-09-25 10:33:31   550.0  -550.0  TransactionId_1053   \n3  CustomerId_27  2018-09-27 10:26:41  1000.0 -1000.0  TransactionId_2633   \n4  CustomerId_27  2018-09-27 12:44:21   500.0  -500.0    TransactionId_71   \n\n        BatchId    SubscriptionId CurrencyCode  CountryCode    ProviderId  \\\n0   BatchId_641  SubscriptionId_2          UGX          256  ProviderId_1   \n1   BatchId_820  SubscriptionId_2          UGX          256  ProviderId_1   \n2   BatchId_210  SubscriptionId_4          UGX          256  ProviderId_1   \n3   BatchId_876  SubscriptionId_4          UGX          256  ProviderId_1   \n4  BatchId_1362  SubscriptionId_4          UGX          256  ProviderId_1   \n\n   ... LoanId PaidOnDate IsFinalPayBack  InvestorId DueDate  \\\n0  ...    NaN        NaN            NaN         NaN     NaN   \n1  ...    NaN        NaN            NaN         NaN     NaN   \n2  ...    NaN        NaN            NaN         NaN     NaN   \n3  ...    NaN        NaN            NaN         NaN     NaN   \n4  ...    NaN        NaN            NaN         NaN     NaN   \n\n   LoanApplicationId PayBackId ThirdPartyId IsThirdPartyConfirmed  IsDefaulted  \n0                NaN       NaN          NaN                   NaN          NaN  \n1                NaN       NaN          NaN                   NaN          NaN  \n2                NaN       NaN          NaN                   NaN          NaN  \n3                NaN       NaN          NaN                   NaN          NaN  \n4                NaN       NaN          NaN                   NaN          NaN  \n\n[5 rows x 27 columns]",
      "text/html": "<div>\n<style scoped>\n    .dataframe tbody tr th:only-of-type {\n        vertical-align: middle;\n    }\n\n    .dataframe tbody tr th {\n        vertical-align: top;\n    }\n\n    .dataframe thead th {\n        text-align: right;\n    }\n</style>\n<table border=\"1\" class=\"dataframe\">\n  <thead>\n    <tr style=\"text-align: right;\">\n      <th></th>\n      <th>CustomerId</th>\n      <th>TransactionStartTime</th>\n      <th>Value</th>\n      <th>Amount</th>\n      <th>TransactionId</th>\n      <th>BatchId</th>\n      <th>SubscriptionId</th>\n      <th>CurrencyCode</th>\n      <th>CountryCode</th>\n      <th>ProviderId</th>\n      <th>...</th>\n      <th>LoanId</th>\n      <th>PaidOnDate</th>\n      <th>IsFinalPayBack</th>\n      <th>InvestorId</th>\n      <th>DueDate</th>\n      <th>LoanApplicationId</th>\n      <th>PayBackId</th>\n      <th>ThirdPartyId</th>\n      <th>IsThirdPartyConfirmed</th>\n      <th>IsDefaulted</th>\n    </tr>\n  </thead>\n  <tbody>\n    <tr>\n      <th>0</th>\n      <td>CustomerId_27</td>\n      <td>2018-09-21 12:17:39</td>\n      <td>550.0</td>\n      <td>-550.0</td>\n      <td>TransactionId_1683</td>\n      <td>BatchId_641</td>\n      <td>SubscriptionId_2</td>\n      <td>UGX</td>\n      <td>256</td>\n      <td>ProviderId_1</td>\n      <td>...</td>\n      <td>NaN</td>\n      <td>NaN</td>\n      <td>NaN</td>\n      <td>NaN</td>\n      <td>NaN</td>\n      <td>NaN</td>\n      <td>NaN</td>\n      <td>NaN</td>\n      <td>NaN</td>\n      <td>NaN</td>\n    </tr>\n    <tr>\n      <th>1</th>\n      <td>CustomerId_27</td>\n      <td>2018-09-25 09:20:29</td>\n      <td>550.0</td>\n      <td>-550.0</td>\n      <td>TransactionId_2235</td>\n      <td>BatchId_820</td>\n      <td>SubscriptionId_2</td>\n      <td>UGX</td>\n      <td>256</td>\n      <td>ProviderId_1</td>\n      <td>...</td>\n      <td>NaN</td>\n      <td>NaN</td>\n      <td>NaN</td>\n      <td>NaN</td>\n      <td>NaN</td>\n      <td>NaN</td>\n      <td>NaN</td>\n      <td>NaN</td>\n      <td>NaN</td>\n      <td>NaN</td>\n    </tr>\n    <tr>\n      <th>2</th>\n      <td>CustomerId_27</td>\n      <td>2018-09-25 10:33:31</td>\n      <td>550.0</td>\n      <td>-550.0</td>\n      <td>TransactionId_1053</td>\n      <td>BatchId_210</td>\n      <td>SubscriptionId_4</td>\n      <td>UGX</td>\n      <td>256</td>\n      <td>ProviderId_1</td>\n      <td>...</td>\n      <td>NaN</td>\n      <td>NaN</td>\n      <td>NaN</td>\n      <td>NaN</td>\n      <td>NaN</td>\n      <td>NaN</td>\n      <td>NaN</td>\n      <td>NaN</td>\n      <td>NaN</td>\n      <td>NaN</td>\n    </tr>\n    <tr>\n      <th>3</th>\n      <td>CustomerId_27</td>\n      <td>2018-09-27 10:26:41</td>\n      <td>1000.0</td>\n      <td>-1000.0</td>\n      <td>TransactionId_2633</td>\n      <td>BatchId_876</td>\n      <td>SubscriptionId_4</td>\n      <td>UGX</td>\n      <td>256</td>\n      <td>ProviderId_1</td>\n      <td>...</td>\n      <td>NaN</td>\n      <td>NaN</td>\n      <td>NaN</td>\n      <td>NaN</td>\n      <td>NaN</td>\n      <td>NaN</td>\n      <td>NaN</td>\n      <td>NaN</td>\n      <td>NaN</td>\n      <td>NaN</td>\n    </tr>\n    <tr>\n      <th>4</th>\n      <td>CustomerId_27</td>\n      <td>2018-09-27 12:44:21</td>\n      <td>500.0</td>\n      <td>-500.0</td>\n      <td>TransactionId_71</td>\n      <td>BatchId_1362</td>\n      <td>SubscriptionId_4</td>\n      <td>UGX</td>\n      <td>256</td>\n      <td>ProviderId_1</td>\n      <td>...</td>\n      <td>NaN</td>\n      <td>NaN</td>\n      <td>NaN</td>\n      <td>NaN</td>\n      <td>NaN</td>\n      <td>NaN</td>\n      <td>NaN</td>\n      <td>NaN</td>\n      <td>NaN</td>\n      <td>NaN</td>\n    </tr>\n  </tbody>\n</table>\n<p>5 rows × 27 columns</p>\n</div>"
     },
     "execution_count": 6,
     "metadata": {},
     "output_type": "execute_result"
    }
   ],
   "source": [
    "# Load the training and test datasets\n",
    "training_data = pd.read_csv(data_path+'Train.csv')\n",
    "training_data.head(5)"
   ],
   "metadata": {
    "collapsed": false
   }
  },
  {
   "cell_type": "code",
   "execution_count": 11,
   "outputs": [
    {
     "data": {
      "text/plain": "2100"
     },
     "execution_count": 11,
     "metadata": {},
     "output_type": "execute_result"
    }
   ],
   "source": [
    "len(training_data)"
   ],
   "metadata": {
    "collapsed": false
   }
  },
  {
   "cell_type": "code",
   "execution_count": 7,
   "outputs": [
    {
     "data": {
      "text/plain": "       CustomerId TransactionStartTime    Value   Amount       TransactionId  \\\n0  CustomerId_310  2019-03-31 13:33:05  14000.0 -14000.0   TransactionId_925   \n1  CustomerId_243  2019-03-31 15:04:09   1000.0  -1000.0  TransactionId_1080   \n2  CustomerId_142  2019-03-31 17:31:11   2500.0  -2500.0  TransactionId_2315   \n3  CustomerId_142  2019-03-31 17:32:15    500.0   -500.0  TransactionId_1466   \n4  CustomerId_142  2019-03-31 17:34:41   1000.0  -1000.0   TransactionId_337   \n\n        BatchId    SubscriptionId CurrencyCode  CountryCode    ProviderId  \\\n0  BatchId_1144  SubscriptionId_7          UGX          256  ProviderId_1   \n1  BatchId_1214  SubscriptionId_7          UGX          256  ProviderId_1   \n2  BatchId_2150  SubscriptionId_7          UGX          256  ProviderId_1   \n3  BatchId_1071  SubscriptionId_7          UGX          256  ProviderId_1   \n4  BatchId_2477  SubscriptionId_7          UGX          256  ProviderId_1   \n\n     ProductId ProductCategory    ChannelId  TransactionStatus  \\\n0  ProductId_7         airtime  ChannelId_1                  1   \n1  ProductId_8    data_bundles  ChannelId_1                  1   \n2  ProductId_7         airtime  ChannelId_1                  1   \n3  ProductId_7         airtime  ChannelId_1                  1   \n4  ProductId_7         airtime  ChannelId_1                  1   \n\n        IssuedDateLoan       LoanId    InvestorId       LoanApplicationId  \\\n0  2019-03-31 13:33:04  LoanId_1027  InvestorId_1   LoanApplicationId_825   \n1  2019-03-31 15:04:08   LoanId_768  InvestorId_1    LoanApplicationId_68   \n2  2019-03-31 17:31:09  LoanId_1067  InvestorId_1  LoanApplicationId_1223   \n3  2019-03-31 17:32:14   LoanId_202  InvestorId_1   LoanApplicationId_633   \n4  2019-03-31 17:34:40   LoanId_533  InvestorId_1   LoanApplicationId_309   \n\n        ThirdPartyId  \n0  ThirdPartyId_1175  \n1   ThirdPartyId_604  \n2  ThirdPartyId_1521  \n3   ThirdPartyId_406  \n4   ThirdPartyId_302  ",
      "text/html": "<div>\n<style scoped>\n    .dataframe tbody tr th:only-of-type {\n        vertical-align: middle;\n    }\n\n    .dataframe tbody tr th {\n        vertical-align: top;\n    }\n\n    .dataframe thead th {\n        text-align: right;\n    }\n</style>\n<table border=\"1\" class=\"dataframe\">\n  <thead>\n    <tr style=\"text-align: right;\">\n      <th></th>\n      <th>CustomerId</th>\n      <th>TransactionStartTime</th>\n      <th>Value</th>\n      <th>Amount</th>\n      <th>TransactionId</th>\n      <th>BatchId</th>\n      <th>SubscriptionId</th>\n      <th>CurrencyCode</th>\n      <th>CountryCode</th>\n      <th>ProviderId</th>\n      <th>ProductId</th>\n      <th>ProductCategory</th>\n      <th>ChannelId</th>\n      <th>TransactionStatus</th>\n      <th>IssuedDateLoan</th>\n      <th>LoanId</th>\n      <th>InvestorId</th>\n      <th>LoanApplicationId</th>\n      <th>ThirdPartyId</th>\n    </tr>\n  </thead>\n  <tbody>\n    <tr>\n      <th>0</th>\n      <td>CustomerId_310</td>\n      <td>2019-03-31 13:33:05</td>\n      <td>14000.0</td>\n      <td>-14000.0</td>\n      <td>TransactionId_925</td>\n      <td>BatchId_1144</td>\n      <td>SubscriptionId_7</td>\n      <td>UGX</td>\n      <td>256</td>\n      <td>ProviderId_1</td>\n      <td>ProductId_7</td>\n      <td>airtime</td>\n      <td>ChannelId_1</td>\n      <td>1</td>\n      <td>2019-03-31 13:33:04</td>\n      <td>LoanId_1027</td>\n      <td>InvestorId_1</td>\n      <td>LoanApplicationId_825</td>\n      <td>ThirdPartyId_1175</td>\n    </tr>\n    <tr>\n      <th>1</th>\n      <td>CustomerId_243</td>\n      <td>2019-03-31 15:04:09</td>\n      <td>1000.0</td>\n      <td>-1000.0</td>\n      <td>TransactionId_1080</td>\n      <td>BatchId_1214</td>\n      <td>SubscriptionId_7</td>\n      <td>UGX</td>\n      <td>256</td>\n      <td>ProviderId_1</td>\n      <td>ProductId_8</td>\n      <td>data_bundles</td>\n      <td>ChannelId_1</td>\n      <td>1</td>\n      <td>2019-03-31 15:04:08</td>\n      <td>LoanId_768</td>\n      <td>InvestorId_1</td>\n      <td>LoanApplicationId_68</td>\n      <td>ThirdPartyId_604</td>\n    </tr>\n    <tr>\n      <th>2</th>\n      <td>CustomerId_142</td>\n      <td>2019-03-31 17:31:11</td>\n      <td>2500.0</td>\n      <td>-2500.0</td>\n      <td>TransactionId_2315</td>\n      <td>BatchId_2150</td>\n      <td>SubscriptionId_7</td>\n      <td>UGX</td>\n      <td>256</td>\n      <td>ProviderId_1</td>\n      <td>ProductId_7</td>\n      <td>airtime</td>\n      <td>ChannelId_1</td>\n      <td>1</td>\n      <td>2019-03-31 17:31:09</td>\n      <td>LoanId_1067</td>\n      <td>InvestorId_1</td>\n      <td>LoanApplicationId_1223</td>\n      <td>ThirdPartyId_1521</td>\n    </tr>\n    <tr>\n      <th>3</th>\n      <td>CustomerId_142</td>\n      <td>2019-03-31 17:32:15</td>\n      <td>500.0</td>\n      <td>-500.0</td>\n      <td>TransactionId_1466</td>\n      <td>BatchId_1071</td>\n      <td>SubscriptionId_7</td>\n      <td>UGX</td>\n      <td>256</td>\n      <td>ProviderId_1</td>\n      <td>ProductId_7</td>\n      <td>airtime</td>\n      <td>ChannelId_1</td>\n      <td>1</td>\n      <td>2019-03-31 17:32:14</td>\n      <td>LoanId_202</td>\n      <td>InvestorId_1</td>\n      <td>LoanApplicationId_633</td>\n      <td>ThirdPartyId_406</td>\n    </tr>\n    <tr>\n      <th>4</th>\n      <td>CustomerId_142</td>\n      <td>2019-03-31 17:34:41</td>\n      <td>1000.0</td>\n      <td>-1000.0</td>\n      <td>TransactionId_337</td>\n      <td>BatchId_2477</td>\n      <td>SubscriptionId_7</td>\n      <td>UGX</td>\n      <td>256</td>\n      <td>ProviderId_1</td>\n      <td>ProductId_7</td>\n      <td>airtime</td>\n      <td>ChannelId_1</td>\n      <td>1</td>\n      <td>2019-03-31 17:34:40</td>\n      <td>LoanId_533</td>\n      <td>InvestorId_1</td>\n      <td>LoanApplicationId_309</td>\n      <td>ThirdPartyId_302</td>\n    </tr>\n  </tbody>\n</table>\n</div>"
     },
     "execution_count": 7,
     "metadata": {},
     "output_type": "execute_result"
    }
   ],
   "source": [
    "test_data = pd.read_csv(data_path+'Test.csv')\n",
    "test_data.head(5)"
   ],
   "metadata": {
    "collapsed": false
   }
  },
  {
   "cell_type": "markdown",
   "source": [
    "## Exploring the data"
   ],
   "metadata": {
    "collapsed": false
   }
  },
  {
   "cell_type": "markdown",
   "source": [
    "### Cursory Examination"
   ],
   "metadata": {
    "collapsed": false
   }
  },
  {
   "cell_type": "code",
   "execution_count": 8,
   "outputs": [
    {
     "name": "stdout",
     "output_type": "stream",
     "text": [
      "<class 'pandas.core.frame.DataFrame'>\n",
      "RangeIndex: 2100 entries, 0 to 2099\n",
      "Data columns (total 27 columns):\n",
      " #   Column                 Non-Null Count  Dtype  \n",
      "---  ------                 --------------  -----  \n",
      " 0   CustomerId             2100 non-null   object \n",
      " 1   TransactionStartTime   2100 non-null   object \n",
      " 2   Value                  2100 non-null   float64\n",
      " 3   Amount                 2100 non-null   float64\n",
      " 4   TransactionId          2100 non-null   object \n",
      " 5   BatchId                2100 non-null   object \n",
      " 6   SubscriptionId         2100 non-null   object \n",
      " 7   CurrencyCode           2100 non-null   object \n",
      " 8   CountryCode            2100 non-null   int64  \n",
      " 9   ProviderId             2100 non-null   object \n",
      " 10  ProductId              2100 non-null   object \n",
      " 11  ProductCategory        2100 non-null   object \n",
      " 12  ChannelId              2100 non-null   object \n",
      " 13  TransactionStatus      2100 non-null   int64  \n",
      " 14  IssuedDateLoan         1488 non-null   object \n",
      " 15  AmountLoan             1488 non-null   float64\n",
      " 16  Currency               1488 non-null   object \n",
      " 17  LoanId                 1488 non-null   object \n",
      " 18  PaidOnDate             1488 non-null   object \n",
      " 19  IsFinalPayBack         1488 non-null   float64\n",
      " 20  InvestorId             1488 non-null   object \n",
      " 21  DueDate                1486 non-null   object \n",
      " 22  LoanApplicationId      1483 non-null   object \n",
      " 23  PayBackId              1488 non-null   object \n",
      " 24  ThirdPartyId           1486 non-null   object \n",
      " 25  IsThirdPartyConfirmed  1488 non-null   float64\n",
      " 26  IsDefaulted            1488 non-null   float64\n",
      "dtypes: float64(6), int64(2), object(19)\n",
      "memory usage: 443.1+ KB\n"
     ]
    }
   ],
   "source": [
    "training_data.info()"
   ],
   "metadata": {
    "collapsed": false
   }
  },
  {
   "cell_type": "code",
   "execution_count": 9,
   "outputs": [
    {
     "data": {
      "text/plain": "              Value        Amount  CountryCode  TransactionStatus  \\\ncount  2.100000e+03  2.100000e+03       2100.0        2100.000000   \nmean   5.302947e+04 -5.291354e+04        256.0           0.708571   \nstd    1.539498e+05  1.539653e+05          0.0           0.454529   \nmin    1.000000e+02 -2.500000e+06        256.0           0.000000   \n25%    1.000000e+03 -1.200000e+04        256.0           0.000000   \n50%    3.500000e+03 -3.500000e+03        256.0           1.000000   \n75%    1.200000e+04 -1.000000e+03        256.0           1.000000   \nmax    2.500000e+06 -1.000000e+02        256.0           1.000000   \n\n         AmountLoan  IsFinalPayBack  IsThirdPartyConfirmed  IsDefaulted  \ncount  1.488000e+03     1488.000000            1488.000000  1488.000000  \nmean   1.182725e+04        0.731855               0.982527     0.119624  \nstd    7.666506e+04        0.443143               0.131070     0.324630  \nmin    5.000000e+01        0.000000               0.000000     0.000000  \n25%    1.113750e+03        0.000000               1.000000     0.000000  \n50%    2.800000e+03        1.000000               1.000000     0.000000  \n75%    1.050000e+04        1.000000               1.000000     0.000000  \nmax    2.760000e+06        1.000000               1.000000     1.000000  ",
      "text/html": "<div>\n<style scoped>\n    .dataframe tbody tr th:only-of-type {\n        vertical-align: middle;\n    }\n\n    .dataframe tbody tr th {\n        vertical-align: top;\n    }\n\n    .dataframe thead th {\n        text-align: right;\n    }\n</style>\n<table border=\"1\" class=\"dataframe\">\n  <thead>\n    <tr style=\"text-align: right;\">\n      <th></th>\n      <th>Value</th>\n      <th>Amount</th>\n      <th>CountryCode</th>\n      <th>TransactionStatus</th>\n      <th>AmountLoan</th>\n      <th>IsFinalPayBack</th>\n      <th>IsThirdPartyConfirmed</th>\n      <th>IsDefaulted</th>\n    </tr>\n  </thead>\n  <tbody>\n    <tr>\n      <th>count</th>\n      <td>2.100000e+03</td>\n      <td>2.100000e+03</td>\n      <td>2100.0</td>\n      <td>2100.000000</td>\n      <td>1.488000e+03</td>\n      <td>1488.000000</td>\n      <td>1488.000000</td>\n      <td>1488.000000</td>\n    </tr>\n    <tr>\n      <th>mean</th>\n      <td>5.302947e+04</td>\n      <td>-5.291354e+04</td>\n      <td>256.0</td>\n      <td>0.708571</td>\n      <td>1.182725e+04</td>\n      <td>0.731855</td>\n      <td>0.982527</td>\n      <td>0.119624</td>\n    </tr>\n    <tr>\n      <th>std</th>\n      <td>1.539498e+05</td>\n      <td>1.539653e+05</td>\n      <td>0.0</td>\n      <td>0.454529</td>\n      <td>7.666506e+04</td>\n      <td>0.443143</td>\n      <td>0.131070</td>\n      <td>0.324630</td>\n    </tr>\n    <tr>\n      <th>min</th>\n      <td>1.000000e+02</td>\n      <td>-2.500000e+06</td>\n      <td>256.0</td>\n      <td>0.000000</td>\n      <td>5.000000e+01</td>\n      <td>0.000000</td>\n      <td>0.000000</td>\n      <td>0.000000</td>\n    </tr>\n    <tr>\n      <th>25%</th>\n      <td>1.000000e+03</td>\n      <td>-1.200000e+04</td>\n      <td>256.0</td>\n      <td>0.000000</td>\n      <td>1.113750e+03</td>\n      <td>0.000000</td>\n      <td>1.000000</td>\n      <td>0.000000</td>\n    </tr>\n    <tr>\n      <th>50%</th>\n      <td>3.500000e+03</td>\n      <td>-3.500000e+03</td>\n      <td>256.0</td>\n      <td>1.000000</td>\n      <td>2.800000e+03</td>\n      <td>1.000000</td>\n      <td>1.000000</td>\n      <td>0.000000</td>\n    </tr>\n    <tr>\n      <th>75%</th>\n      <td>1.200000e+04</td>\n      <td>-1.000000e+03</td>\n      <td>256.0</td>\n      <td>1.000000</td>\n      <td>1.050000e+04</td>\n      <td>1.000000</td>\n      <td>1.000000</td>\n      <td>0.000000</td>\n    </tr>\n    <tr>\n      <th>max</th>\n      <td>2.500000e+06</td>\n      <td>-1.000000e+02</td>\n      <td>256.0</td>\n      <td>1.000000</td>\n      <td>2.760000e+06</td>\n      <td>1.000000</td>\n      <td>1.000000</td>\n      <td>1.000000</td>\n    </tr>\n  </tbody>\n</table>\n</div>"
     },
     "execution_count": 9,
     "metadata": {},
     "output_type": "execute_result"
    }
   ],
   "source": [
    "training_data.describe()"
   ],
   "metadata": {
    "collapsed": false
   }
  },
  {
   "cell_type": "code",
   "execution_count": 19,
   "outputs": [
    {
     "data": {
      "text/plain": "CustomerId                 0\nTransactionStartTime       0\nValue                      0\nAmount                     0\nTransactionId              0\nBatchId                    0\nSubscriptionId             0\nCurrencyCode               0\nCountryCode                0\nProviderId                 0\nProductId                  0\nProductCategory            0\nChannelId                  0\nTransactionStatus          0\nIssuedDateLoan           612\nAmountLoan               612\nCurrency                 612\nLoanId                   612\nPaidOnDate               612\nIsFinalPayBack           612\nInvestorId               612\nDueDate                  614\nLoanApplicationId        617\nPayBackId                612\nThirdPartyId             614\nIsThirdPartyConfirmed    612\nIsDefaulted              612\ndtype: int64"
     },
     "execution_count": 19,
     "metadata": {},
     "output_type": "execute_result"
    }
   ],
   "source": [
    "training_data.isnull().sum()"
   ],
   "metadata": {
    "collapsed": false
   }
  },
  {
   "cell_type": "code",
   "execution_count": 24,
   "outputs": [
    {
     "data": {
      "text/plain": "56700"
     },
     "execution_count": 24,
     "metadata": {},
     "output_type": "execute_result"
    }
   ],
   "source": [
    "# Number of datapoints\n",
    "len(training_data) * len(training_data.columns)"
   ],
   "metadata": {
    "collapsed": false
   }
  },
  {
   "cell_type": "code",
   "execution_count": 25,
   "outputs": [
    {
     "data": {
      "text/plain": "7965"
     },
     "execution_count": 25,
     "metadata": {},
     "output_type": "execute_result"
    }
   ],
   "source": [
    "# Number of null values\n",
    "training_data.isnull().values.sum()"
   ],
   "metadata": {
    "collapsed": false
   }
  },
  {
   "cell_type": "code",
   "execution_count": 28,
   "outputs": [
    {
     "data": {
      "text/plain": "       Value  Amount  CountryCode  TransactionStatus  AmountLoan  \\\n0      550.0  -550.0          256                  0         NaN   \n1      550.0  -550.0          256                  0         NaN   \n2      550.0  -550.0          256                  0         NaN   \n3     1000.0 -1000.0          256                  0         NaN   \n4      500.0  -500.0          256                  0         NaN   \n...      ...     ...          ...                ...         ...   \n2095  2000.0 -2000.0          256                  1      2370.0   \n2096  5000.0 -5000.0          256                  1      5925.0   \n2097  5000.0 -5000.0          256                  1      7100.0   \n2098  1500.0 -1500.0          256                  1      1733.0   \n2099  1000.0 -1000.0          256                  1      1090.0   \n\n      IsFinalPayBack  IsThirdPartyConfirmed  IsDefaulted  \n0                NaN                    NaN          NaN  \n1                NaN                    NaN          NaN  \n2                NaN                    NaN          NaN  \n3                NaN                    NaN          NaN  \n4                NaN                    NaN          NaN  \n...              ...                    ...          ...  \n2095             1.0                    1.0          0.0  \n2096             1.0                    1.0          0.0  \n2097             1.0                    1.0          0.0  \n2098             1.0                    1.0          0.0  \n2099             1.0                    1.0          0.0  \n\n[2100 rows x 8 columns]",
      "text/html": "<div>\n<style scoped>\n    .dataframe tbody tr th:only-of-type {\n        vertical-align: middle;\n    }\n\n    .dataframe tbody tr th {\n        vertical-align: top;\n    }\n\n    .dataframe thead th {\n        text-align: right;\n    }\n</style>\n<table border=\"1\" class=\"dataframe\">\n  <thead>\n    <tr style=\"text-align: right;\">\n      <th></th>\n      <th>Value</th>\n      <th>Amount</th>\n      <th>CountryCode</th>\n      <th>TransactionStatus</th>\n      <th>AmountLoan</th>\n      <th>IsFinalPayBack</th>\n      <th>IsThirdPartyConfirmed</th>\n      <th>IsDefaulted</th>\n    </tr>\n  </thead>\n  <tbody>\n    <tr>\n      <th>0</th>\n      <td>550.0</td>\n      <td>-550.0</td>\n      <td>256</td>\n      <td>0</td>\n      <td>NaN</td>\n      <td>NaN</td>\n      <td>NaN</td>\n      <td>NaN</td>\n    </tr>\n    <tr>\n      <th>1</th>\n      <td>550.0</td>\n      <td>-550.0</td>\n      <td>256</td>\n      <td>0</td>\n      <td>NaN</td>\n      <td>NaN</td>\n      <td>NaN</td>\n      <td>NaN</td>\n    </tr>\n    <tr>\n      <th>2</th>\n      <td>550.0</td>\n      <td>-550.0</td>\n      <td>256</td>\n      <td>0</td>\n      <td>NaN</td>\n      <td>NaN</td>\n      <td>NaN</td>\n      <td>NaN</td>\n    </tr>\n    <tr>\n      <th>3</th>\n      <td>1000.0</td>\n      <td>-1000.0</td>\n      <td>256</td>\n      <td>0</td>\n      <td>NaN</td>\n      <td>NaN</td>\n      <td>NaN</td>\n      <td>NaN</td>\n    </tr>\n    <tr>\n      <th>4</th>\n      <td>500.0</td>\n      <td>-500.0</td>\n      <td>256</td>\n      <td>0</td>\n      <td>NaN</td>\n      <td>NaN</td>\n      <td>NaN</td>\n      <td>NaN</td>\n    </tr>\n    <tr>\n      <th>...</th>\n      <td>...</td>\n      <td>...</td>\n      <td>...</td>\n      <td>...</td>\n      <td>...</td>\n      <td>...</td>\n      <td>...</td>\n      <td>...</td>\n    </tr>\n    <tr>\n      <th>2095</th>\n      <td>2000.0</td>\n      <td>-2000.0</td>\n      <td>256</td>\n      <td>1</td>\n      <td>2370.0</td>\n      <td>1.0</td>\n      <td>1.0</td>\n      <td>0.0</td>\n    </tr>\n    <tr>\n      <th>2096</th>\n      <td>5000.0</td>\n      <td>-5000.0</td>\n      <td>256</td>\n      <td>1</td>\n      <td>5925.0</td>\n      <td>1.0</td>\n      <td>1.0</td>\n      <td>0.0</td>\n    </tr>\n    <tr>\n      <th>2097</th>\n      <td>5000.0</td>\n      <td>-5000.0</td>\n      <td>256</td>\n      <td>1</td>\n      <td>7100.0</td>\n      <td>1.0</td>\n      <td>1.0</td>\n      <td>0.0</td>\n    </tr>\n    <tr>\n      <th>2098</th>\n      <td>1500.0</td>\n      <td>-1500.0</td>\n      <td>256</td>\n      <td>1</td>\n      <td>1733.0</td>\n      <td>1.0</td>\n      <td>1.0</td>\n      <td>0.0</td>\n    </tr>\n    <tr>\n      <th>2099</th>\n      <td>1000.0</td>\n      <td>-1000.0</td>\n      <td>256</td>\n      <td>1</td>\n      <td>1090.0</td>\n      <td>1.0</td>\n      <td>1.0</td>\n      <td>0.0</td>\n    </tr>\n  </tbody>\n</table>\n<p>2100 rows × 8 columns</p>\n</div>"
     },
     "execution_count": 28,
     "metadata": {},
     "output_type": "execute_result"
    }
   ],
   "source": [
    "# Get columns with numeric data\n",
    "numeric_training_data = training_data.select_dtypes('number')\n",
    "numeric_training_data"
   ],
   "metadata": {
    "collapsed": false
   }
  },
  {
   "cell_type": "code",
   "execution_count": 30,
   "outputs": [
    {
     "data": {
      "text/plain": "2448"
     },
     "execution_count": 30,
     "metadata": {},
     "output_type": "execute_result"
    }
   ],
   "source": [
    "# Numeric columns with null\n",
    "numeric_training_data.isnull().values.sum()"
   ],
   "metadata": {
    "collapsed": false
   }
  },
  {
   "cell_type": "code",
   "execution_count": 35,
   "outputs": [
    {
     "data": {
      "text/plain": "Value                      0\nAmount                     0\nCountryCode                0\nTransactionStatus          0\nAmountLoan               612\nIsFinalPayBack           612\nIsThirdPartyConfirmed    612\nIsDefaulted              612\ndtype: int64"
     },
     "execution_count": 35,
     "metadata": {},
     "output_type": "execute_result"
    }
   ],
   "source": [
    "numeric_training_data.isnull().sum()"
   ],
   "metadata": {
    "collapsed": false
   }
  },
  {
   "cell_type": "markdown",
   "source": [
    "### Distribution of data"
   ],
   "metadata": {
    "collapsed": false
   }
  },
  {
   "cell_type": "code",
   "execution_count": 36,
   "outputs": [
    {
     "data": {
      "text/plain": "2448"
     },
     "execution_count": 36,
     "metadata": {},
     "output_type": "execute_result"
    }
   ],
   "source": [],
   "metadata": {
    "collapsed": false
   }
  },
  {
   "cell_type": "code",
   "execution_count": null,
   "outputs": [],
   "source": [],
   "metadata": {
    "collapsed": false
   }
  }
 ],
 "metadata": {
  "kernelspec": {
   "display_name": "Python 3",
   "language": "python",
   "name": "python3"
  },
  "language_info": {
   "codemirror_mode": {
    "name": "ipython",
    "version": 2
   },
   "file_extension": ".py",
   "mimetype": "text/x-python",
   "name": "python",
   "nbconvert_exporter": "python",
   "pygments_lexer": "ipython2",
   "version": "2.7.6"
  }
 },
 "nbformat": 4,
 "nbformat_minor": 0
}
